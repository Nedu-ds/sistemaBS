{
 "metadata": {
  "language_info": {
   "codemirror_mode": {
    "name": "ipython",
    "version": 3
   },
   "file_extension": ".py",
   "mimetype": "text/x-python",
   "name": "python",
   "nbconvert_exporter": "python",
   "pygments_lexer": "ipython3",
   "version": "3.7.3-final"
  },
  "orig_nbformat": 2,
  "kernelspec": {
   "name": "Python 3.7.3 64-bit ('base': conda)",
   "display_name": "Python 3.7.3 64-bit ('base': conda)",
   "metadata": {
    "interpreter": {
     "hash": "353fba85b9a0f247eed1d29e6ff3406207a4087f81756c4f72db5e4ac105e2be"
    }
   }
  }
 },
 "nbformat": 4,
 "nbformat_minor": 2,
 "cells": [
  {
   "cell_type": "code",
   "execution_count": 17,
   "metadata": {},
   "outputs": [],
   "source": [
    "import pandas as pd\n",
    "ad_status = pd.read_excel('D:/Accesos/AD/Ad.xlsx')\n",
    "\n",
    "rol = [54237,32440,37777,16654,37032,32358]"
   ]
  },
  {
   "cell_type": "code",
   "execution_count": 18,
   "metadata": {},
   "outputs": [
    {
     "output_type": "execute_result",
     "data": {
      "text/plain": [
       "array(['AccountExpirationDate', 'accountExpires', 'AccountLockoutTime',\n",
       "       'AccountNotDelegated', 'adminCount',\n",
       "       'AllowReversiblePasswordEncryption', 'AuthenticationPolicy',\n",
       "       'AuthenticationPolicySilo', 'BadLogonCount',\n",
       "       'CannotChangePassword', 'CanonicalName', 'Certificates', 'City',\n",
       "       'CN', 'codePage', 'Company', 'CompoundIdentitySupported',\n",
       "       'Country', 'countryCode', 'Created', 'createTimeStamp', 'Deleted',\n",
       "       'Department', 'Description', 'DisplayName', 'DistinguishedName',\n",
       "       'Division', 'DoesNotRequirePreAuth', 'dSCorePropagationData',\n",
       "       'EmailAddress', 'EmployeeID', 'EmployeeNumber', 'Enabled', 'Fax',\n",
       "       'GivenName', 'HomeDirectory', 'HomedirRequired', 'HomeDrive',\n",
       "       'HomePage', 'HomePhone', 'Initials', 'instanceType', 'isDeleted',\n",
       "       'KerberosEncryptionType', 'LastBadPasswordAttempt',\n",
       "       'LastKnownParent', 'LastLogonDate', 'LockedOut', 'lockoutTime',\n",
       "       'LogonWorkstations', 'Manager', 'MemberOf', 'MNSLogonAccount',\n",
       "       'MobilePhone', 'Modified', 'modifyTimeStamp',\n",
       "       'msDS-User-Account-Control-Computed', 'Name',\n",
       "       'nTSecurityDescriptor', 'ObjectCategory', 'ObjectClass',\n",
       "       'ObjectGUID', 'objectSid', 'Office', 'OfficePhone', 'Organization',\n",
       "       'OtherName', 'PasswordExpired', 'PasswordLastSet',\n",
       "       'PasswordNeverExpires', 'PasswordNotRequired', 'POBox',\n",
       "       'PostalCode', 'PrimaryGroup', 'primaryGroupID',\n",
       "       'PrincipalsAllowedToDelegateToAccount', 'ProfilePath',\n",
       "       'ProtectedFromAccidentalDeletion', 'pwdLastSet', 'SamAccountName',\n",
       "       'sAMAccountType', 'ScriptPath', 'sDRightsEffective',\n",
       "       'ServicePrincipalNames', 'SID', 'SIDHistory',\n",
       "       'SmartcardLogonRequired', 'sn', 'State', 'StreetAddress',\n",
       "       'Surname', 'Title', 'TrustedForDelegation',\n",
       "       'TrustedToAuthForDelegation', 'UseDESKeyOnly',\n",
       "       'userAccountControl', 'userCertificate', 'UserPrincipalName',\n",
       "       'uSNChanged', 'uSNCreated', 'whenChanged', 'whenCreated'],\n",
       "      dtype=object)"
      ]
     },
     "metadata": {},
     "execution_count": 18
    }
   ],
   "source": [
    "ad_status.columns.values"
   ]
  },
  {
   "cell_type": "code",
   "execution_count": 19,
   "metadata": {},
   "outputs": [
    {
     "output_type": "error",
     "ename": "TypeError",
     "evalue": "list indices must be integers or slices, not str",
     "traceback": [
      "\u001b[1;31m---------------------------------------------------------------------------\u001b[0m",
      "\u001b[1;31mTypeError\u001b[0m                                 Traceback (most recent call last)",
      "\u001b[1;32m<ipython-input-19-e1daa8130baa>\u001b[0m in \u001b[0;36m<module>\u001b[1;34m\u001b[0m\n\u001b[0;32m      1\u001b[0m \u001b[0mad_status\u001b[0m \u001b[1;33m=\u001b[0m \u001b[1;33m[\u001b[0m\u001b[1;33m]\u001b[0m\u001b[1;33m\u001b[0m\u001b[1;33m\u001b[0m\u001b[0m\n\u001b[0;32m      2\u001b[0m \u001b[1;32mfor\u001b[0m \u001b[0mroles\u001b[0m \u001b[1;32min\u001b[0m \u001b[0mrol\u001b[0m\u001b[1;33m:\u001b[0m\u001b[1;33m\u001b[0m\u001b[1;33m\u001b[0m\u001b[0m\n\u001b[1;32m----> 3\u001b[1;33m     \u001b[0mprueba\u001b[0m \u001b[1;33m=\u001b[0m \u001b[0mad_status\u001b[0m\u001b[1;33m[\u001b[0m\u001b[0mad_status\u001b[0m\u001b[1;33m[\u001b[0m\u001b[1;34m'SamAccountName'\u001b[0m\u001b[1;33m]\u001b[0m \u001b[1;33m==\u001b[0m \u001b[0mroles\u001b[0m\u001b[1;33m]\u001b[0m\u001b[1;33m\u001b[0m\u001b[1;33m\u001b[0m\u001b[0m\n\u001b[0m\u001b[0;32m      4\u001b[0m     \u001b[0mad_status\u001b[0m\u001b[1;33m.\u001b[0m\u001b[0mappend\u001b[0m\u001b[1;33m(\u001b[0m\u001b[0mprueba\u001b[0m\u001b[1;33m[\u001b[0m\u001b[1;34m'Enable'\u001b[0m\u001b[1;33m]\u001b[0m\u001b[1;33m)\u001b[0m\u001b[1;33m\u001b[0m\u001b[1;33m\u001b[0m\u001b[0m\n",
      "\u001b[1;31mTypeError\u001b[0m: list indices must be integers or slices, not str"
     ]
    }
   ],
   "source": [
    "ad_status = []\n",
    "for roles in rol:\n",
    "    prueba = ad_status[ad_status['SamAccountName'] == roles]\n",
    "    ad_status.append(prueba['Enabled']) "
   ]
  },
  {
   "cell_type": "code",
   "execution_count": null,
   "metadata": {},
   "outputs": [],
   "source": []
  }
 ]
}